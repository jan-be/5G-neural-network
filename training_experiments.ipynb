{
 "cells": [
  {
   "cell_type": "code",
   "execution_count": 1,
   "metadata": {},
   "outputs": [],
   "source": [
    "import torch\n",
    "import torch.nn as nn\n",
    "import pandas as pd\n",
    "from torch.utils.data import DataLoader\n",
    "from sklearn import preprocessing"
   ]
  },
  {
   "cell_type": "code",
   "execution_count": 2,
   "metadata": {},
   "outputs": [
    {
     "data": {
      "text/plain": "'cpu'"
     },
     "execution_count": 2,
     "metadata": {},
     "output_type": "execute_result"
    }
   ],
   "source": [
    "device = torch.device(\"cuda:0\" if torch.cuda.is_available() else \"cpu\")\n",
    "device = \"cpu\"\n",
    "device"
   ]
  },
  {
   "cell_type": "code",
   "execution_count": 3,
   "metadata": {},
   "outputs": [],
   "source": [
    "#based on https://towardsdatascience.com/build-a-simple-neural-network-using-pytorch-38c55158028d\n",
    "n_input, n_hidden, n_hidden2, n_out, batch_size, learning_rate, momentum, num_workers, dropout = 9, 30, 11, 2, 16, 0.005, 0.95, 0, 0"
   ]
  },
  {
   "cell_type": "code",
   "execution_count": 4,
   "metadata": {},
   "outputs": [
    {
     "data": {
      "text/plain": "(237485, 11)"
     },
     "execution_count": 4,
     "metadata": {},
     "output_type": "execute_result"
    }
   ],
   "source": [
    "full_pd = pd.read_csv('Dataset_237k.csv')\n",
    "full_tensor = torch.tensor(full_pd.to_numpy()).float()\n",
    "full_pd.shape"
   ]
  },
  {
   "cell_type": "code",
   "execution_count": 5,
   "metadata": {},
   "outputs": [],
   "source": [
    "scaler = preprocessing.MinMaxScaler()"
   ]
  },
  {
   "cell_type": "code",
   "execution_count": 6,
   "metadata": {},
   "outputs": [
    {
     "data": {
      "text/plain": "tensor([[4.2857e-01, 4.2857e-01, 0.0000e+00, 2.8571e-01, 6.3049e-02, 9.6665e-01,\n         2.5893e-01, 3.2685e-01, 2.7513e-03, 8.6700e-02, 5.3700e-01],\n        [0.0000e+00, 0.0000e+00, 1.4286e-01, 1.4286e-01, 3.1193e-01, 4.0891e-01,\n         7.9886e-01, 7.3915e-01, 3.0244e-03, 5.5611e-02, 5.8032e-01],\n        [4.2857e-01, 0.0000e+00, 2.8571e-01, 5.7143e-01, 3.7063e-01, 4.2484e-01,\n         8.6386e-01, 7.3438e-01, 4.4560e-04, 1.0000e+00, 5.4318e-03],\n        [2.8571e-01, 8.5714e-01, 0.0000e+00, 8.5714e-01, 6.6664e-02, 6.9349e-01,\n         5.0336e-01, 6.1156e-01, 4.1963e-05, 1.0000e+00, 5.3588e-03],\n        [1.4286e-01, 7.1429e-01, 7.1429e-01, 1.4286e-01, 5.7649e-02, 9.4421e-01,\n         5.6026e-01, 7.1128e-01, 3.8886e-04, 1.0000e+00, 5.4436e-03],\n        [2.8571e-01, 0.0000e+00, 5.7143e-01, 5.7143e-01, 3.2106e-01, 3.5409e-01,\n         5.8771e-01, 6.2953e-01, 1.2502e-03, 6.7290e-01, 1.2079e-01],\n        [4.2857e-01, 1.4286e-01, 4.2857e-01, 4.2857e-01, 9.0662e-01, 2.9580e-01,\n         1.0988e-01, 4.7156e-01, 1.6752e-02, 8.0884e-01, 1.0302e-01],\n        [7.1429e-01, 1.0000e+00, 0.0000e+00, 8.5714e-01, 4.1767e-01, 8.2794e-01,\n         6.9862e-01, 5.5980e-02, 9.9998e-03, 2.2781e-02, 6.7548e-01],\n        [2.8571e-01, 7.1429e-01, 2.8571e-01, 7.1429e-01, 7.0780e-01, 8.6894e-01,\n         2.5030e-01, 8.0666e-01, 5.9413e-04, 1.0000e+00, 5.2029e-03],\n        [0.0000e+00, 1.4286e-01, 4.2857e-01, 8.5714e-01, 7.8031e-01, 6.5345e-01,\n         7.4683e-01, 4.7068e-01, 4.6478e-04, 1.0000e+00, 5.5228e-03]])"
     },
     "execution_count": 6,
     "metadata": {},
     "output_type": "execute_result"
    }
   ],
   "source": [
    "full_scaled = torch.tensor(scaler.fit_transform(full_tensor)).float()\n",
    "full_scaled[:10, :]"
   ]
  },
  {
   "cell_type": "code",
   "execution_count": 7,
   "metadata": {},
   "outputs": [],
   "source": [
    "train_n = {\"data\": full_scaled[:80000, :9].to(device), \"target\": full_scaled[:80000, 9:].to(device)}\n",
    "test_n = {\"data\": full_scaled[:-10000, :9].to(device), \"target\": full_scaled[:-10000, 9:].to(device)}\n",
    "\n",
    "test_n[\"data\"].requires_grad=False\n",
    "test_n[\"target\"].requires_grad=False\n",
    "\n",
    "train, validate, test = torch.utils.data.random_split(full_scaled, [200000, 27485, 10000])\n",
    "#train, validate, test = torch.utils.data.random_split(full_scaled, [80000, 14765, 10000])\n",
    "train_loader = DataLoader(train, batch_size=batch_size, num_workers=num_workers, pin_memory=True)"
   ]
  },
  {
   "cell_type": "code",
   "execution_count": 8,
   "metadata": {},
   "outputs": [
    {
     "name": "stdout",
     "output_type": "stream",
     "text": [
      "Sequential(\n",
      "  (0): Linear(in_features=9, out_features=30, bias=True)\n",
      "  (1): Dropout(p=0, inplace=False)\n",
      "  (2): ReLU()\n",
      "  (3): Linear(in_features=30, out_features=11, bias=True)\n",
      "  (4): ReLU()\n",
      "  (5): Linear(in_features=11, out_features=2, bias=True)\n",
      "  (6): Sigmoid()\n",
      ")\n"
     ]
    }
   ],
   "source": [
    "    model = nn.Sequential(nn.Linear(n_input, n_hidden),\n",
    "                          nn.Dropout(p=dropout),\n",
    "                          nn.ReLU(),\n",
    "                          nn.Linear(n_hidden, n_hidden2),\n",
    "                          nn.ReLU(),\n",
    "                          nn.Linear(n_hidden2, n_out),\n",
    "                          nn.Sigmoid())\n",
    "model.to(device)\n",
    "print(model)"
   ]
  },
  {
   "cell_type": "code",
   "execution_count": 9,
   "metadata": {},
   "outputs": [],
   "source": [
    "loss_function = nn.HuberLoss()\n",
    "optimizer = torch.optim.SGD(model.parameters(), lr=learning_rate, momentum=momentum)"
   ]
  },
  {
   "cell_type": "code",
   "execution_count": 10,
   "metadata": {},
   "outputs": [
    {
     "name": "stdout",
     "output_type": "stream",
     "text": [
      "545.3408000469208\n"
     ]
    }
   ],
   "source": [
    "#torch.multiprocessing.set_start_method('spawn')\n",
    "import time\n",
    "\n",
    "tim = time.time()\n",
    "\n",
    "losses = []\n",
    "test_losses = []\n",
    "for i in range(50):\n",
    "    for j, item in enumerate(train_loader):\n",
    "        train_x, train_y = item[:, :9], item[:, 9:]\n",
    "        \n",
    "        train_x = train_x.to(device)\n",
    "        train_y = train_y.to(device)\n",
    "        \n",
    "        pred_y = model(train_x)\n",
    "        loss = loss_function(pred_y, train_y)\n",
    "        losses.append(loss.item())\n",
    "\n",
    "        model.zero_grad()\n",
    "        loss.backward()\n",
    "\n",
    "        optimizer.step()\n",
    "        \n",
    "    test_pred_y = model(test_n[\"data\"])\n",
    "    test_loss = loss_function(test_pred_y, test_n[\"target\"])\n",
    "    test_losses.append(test_loss)\n",
    "    \n",
    "print(time.time() - tim)"
   ]
  },
  {
   "cell_type": "code",
   "execution_count": 11,
   "metadata": {},
   "outputs": [],
   "source": [
    "#losses = []\n",
    "#test_losses = []\n",
    "#for i in range(100):\n",
    "#    for j in range(0, train_n[\"data\"].shape[0], batch_size):\n",
    "#        train_x, train_y = train_n[\"data\"][j:j+batch_size], train_n[\"target\"][j:j+batch_size]\n",
    "#        \n",
    "#        pred_y = model(train_x)\n",
    "#        loss = loss_function(pred_y, train_y)\n",
    "#        losses.append(loss.item())\n",
    "#\n",
    "#        model.zero_grad()\n",
    "#        loss.backward()\n",
    "#\n",
    "#        optimizer.step()\n",
    "#\n",
    "#    test_pred_y = model(test_n[\"data\"])\n",
    "#    test_loss = loss_function(test_pred_y, test_n[\"target\"])\n",
    "#    test_losses.append(test_loss)"
   ]
  },
  {
   "cell_type": "code",
   "execution_count": 12,
   "metadata": {},
   "outputs": [
    {
     "data": {
      "text/plain": "<Figure size 640x480 with 1 Axes>",
      "image/png": "[encoded data removed]"
     },
     "metadata": {},
     "output_type": "display_data"
    }
   ],
   "source": [
    "import matplotlib.pyplot as plt\n",
    "plt.plot(losses)\n",
    "plt.ylabel('loss')\n",
    "plt.xlabel('epoch')\n",
    "plt.title(\"Learning rate %f\"%(learning_rate))\n",
    "plt.show()"
   ]
  },
  {
   "cell_type": "code",
   "execution_count": 13,
   "metadata": {},
   "outputs": [
    {
     "data": {
      "text/plain": "[tensor(0.0447, grad_fn=<HuberLossBackward0>),\n tensor(0.0312, grad_fn=<HuberLossBackward0>),\n tensor(0.0200, grad_fn=<HuberLossBackward0>),\n tensor(0.0163, grad_fn=<HuberLossBackward0>),\n tensor(0.0146, grad_fn=<HuberLossBackward0>),\n tensor(0.0144, grad_fn=<HuberLossBackward0>),\n tensor(0.0131, grad_fn=<HuberLossBackward0>),\n tensor(0.0289, grad_fn=<HuberLossBackward0>),\n tensor(0.0234, grad_fn=<HuberLossBackward0>),\n tensor(0.0091, grad_fn=<HuberLossBackward0>),\n tensor(0.0109, grad_fn=<HuberLossBackward0>),\n tensor(0.0087, grad_fn=<HuberLossBackward0>),\n tensor(0.0086, grad_fn=<HuberLossBackward0>),\n tensor(0.0090, grad_fn=<HuberLossBackward0>),\n tensor(0.0093, grad_fn=<HuberLossBackward0>),\n tensor(0.0087, grad_fn=<HuberLossBackward0>),\n tensor(0.0060, grad_fn=<HuberLossBackward0>),\n tensor(0.0078, grad_fn=<HuberLossBackward0>),\n tensor(0.0072, grad_fn=<HuberLossBackward0>),\n tensor(0.0058, grad_fn=<HuberLossBackward0>),\n tensor(0.0058, grad_fn=<HuberLossBackward0>),\n tensor(0.0056, grad_fn=<HuberLossBackward0>),\n tensor(0.0053, grad_fn=<HuberLossBackward0>),\n tensor(0.0054, grad_fn=<HuberLossBackward0>),\n tensor(0.0074, grad_fn=<HuberLossBackward0>),\n tensor(0.0054, grad_fn=<HuberLossBackward0>),\n tensor(0.0054, grad_fn=<HuberLossBackward0>),\n tensor(0.0057, grad_fn=<HuberLossBackward0>),\n tensor(0.0061, grad_fn=<HuberLossBackward0>),\n tensor(0.0064, grad_fn=<HuberLossBackward0>),\n tensor(0.0062, grad_fn=<HuberLossBackward0>),\n tensor(0.0058, grad_fn=<HuberLossBackward0>),\n tensor(0.0058, grad_fn=<HuberLossBackward0>),\n tensor(0.0055, grad_fn=<HuberLossBackward0>),\n tensor(0.0049, grad_fn=<HuberLossBackward0>),\n tensor(0.0058, grad_fn=<HuberLossBackward0>),\n tensor(0.0053, grad_fn=<HuberLossBackward0>),\n tensor(0.0050, grad_fn=<HuberLossBackward0>),\n tensor(0.0062, grad_fn=<HuberLossBackward0>),\n tensor(0.0054, grad_fn=<HuberLossBackward0>),\n tensor(0.0053, grad_fn=<HuberLossBackward0>),\n tensor(0.0052, grad_fn=<HuberLossBackward0>),\n tensor(0.0056, grad_fn=<HuberLossBackward0>),\n tensor(0.0061, grad_fn=<HuberLossBackward0>),\n tensor(0.0056, grad_fn=<HuberLossBackward0>),\n tensor(0.0060, grad_fn=<HuberLossBackward0>),\n tensor(0.0059, grad_fn=<HuberLossBackward0>),\n tensor(0.0064, grad_fn=<HuberLossBackward0>),\n tensor(0.0065, grad_fn=<HuberLossBackward0>),\n tensor(0.0064, grad_fn=<HuberLossBackward0>)]"
     },
     "execution_count": 13,
     "metadata": {},
     "output_type": "execute_result"
    }
   ],
   "source": [
    "test_losses"
   ]
  },
  {
   "cell_type": "code",
   "execution_count": 14,
   "metadata": {},
   "outputs": [
    {
     "data": {
      "text/plain": "tensor([0., 0.], grad_fn=<SigmoidBackward0>)"
     },
     "execution_count": 14,
     "metadata": {},
     "output_type": "execute_result"
    }
   ],
   "source": [
    "#                                      bandwidth ↓\n",
    "model(torch.tensor([1., 1., 1., 1., 1., 1., 1., 100., 1.]))"
   ]
  },
  {
   "cell_type": "code",
   "execution_count": 15,
   "metadata": {},
   "outputs": [
    {
     "data": {
      "text/plain": "tensor([0., 0.], grad_fn=<SigmoidBackward0>)"
     },
     "execution_count": 15,
     "metadata": {},
     "output_type": "execute_result"
    }
   ],
   "source": [
    "#                                      bandwidth ↓\n",
    "model(torch.tensor([1., 1., 1., 1., 1., 1., 1., 1000., 1.]))"
   ]
  },
  {
   "cell_type": "code",
   "execution_count": 16,
   "metadata": {},
   "outputs": [
    {
     "data": {
      "text/plain": "tensor([[0.0000e+00, 2.8571e-01, 4.2857e-01, 8.5714e-01, 1.7304e-02, 1.2747e-01,\n         2.8086e-01, 1.6938e-01, 6.1069e-04],\n        [7.1429e-01, 1.4286e-01, 8.5714e-01, 8.5714e-01, 4.1366e-02, 3.1247e-01,\n         9.8956e-01, 2.2675e-01, 1.2218e-02],\n        [2.8571e-01, 0.0000e+00, 1.4286e-01, 5.7143e-01, 2.6630e-01, 2.7092e-01,\n         1.8378e-01, 1.7757e-01, 4.7269e-02],\n        [1.4286e-01, 5.7143e-01, 1.0000e+00, 0.0000e+00, 4.3131e-01, 2.3900e-01,\n         4.1423e-01, 8.3760e-02, 5.7176e-03],\n        [2.8571e-01, 2.8571e-01, 4.2857e-01, 1.0000e+00, 3.2173e-01, 1.1533e-01,\n         1.9751e-02, 7.5154e-01, 1.1898e-03]])"
     },
     "execution_count": 16,
     "metadata": {},
     "output_type": "execute_result"
    }
   ],
   "source": [
    "full_scaled[230000:230005, :9]"
   ]
  },
  {
   "cell_type": "code",
   "execution_count": 17,
   "metadata": {},
   "outputs": [
    {
     "data": {
      "text/plain": "tensor([[4.4842e-01, 2.6406e-01],\n        [3.0261e-04, 3.5592e-03],\n        [1.7145e-08, 3.3202e-06],\n        [8.0634e-02, 4.5562e-01],\n        [9.6540e-01, 3.9996e-02]], grad_fn=<SigmoidBackward0>)"
     },
     "execution_count": 17,
     "metadata": {},
     "output_type": "execute_result"
    }
   ],
   "source": [
    "inf_scaled = model(full_scaled[230000:230005, :9])\n",
    "inf_scaled"
   ]
  },
  {
   "cell_type": "code",
   "execution_count": 18,
   "metadata": {},
   "outputs": [
    {
     "data": {
      "text/plain": "tensor([[0.0000e+00, 2.8571e-01, 4.2857e-01, 8.5714e-01, 1.7304e-02, 1.2747e-01,\n         2.8086e-01, 1.6938e-01, 6.1069e-04, 4.4842e-01, 2.6406e-01],\n        [7.1429e-01, 1.4286e-01, 8.5714e-01, 8.5714e-01, 4.1366e-02, 3.1247e-01,\n         9.8956e-01, 2.2675e-01, 1.2218e-02, 3.0261e-04, 3.5592e-03],\n        [2.8571e-01, 0.0000e+00, 1.4286e-01, 5.7143e-01, 2.6630e-01, 2.7092e-01,\n         1.8378e-01, 1.7757e-01, 4.7269e-02, 1.7145e-08, 3.3202e-06],\n        [1.4286e-01, 5.7143e-01, 1.0000e+00, 0.0000e+00, 4.3131e-01, 2.3900e-01,\n         4.1423e-01, 8.3760e-02, 5.7176e-03, 8.0634e-02, 4.5562e-01],\n        [2.8571e-01, 2.8571e-01, 4.2857e-01, 1.0000e+00, 3.2173e-01, 1.1533e-01,\n         1.9751e-02, 7.5154e-01, 1.1898e-03, 9.6540e-01, 3.9996e-02]],\n       grad_fn=<CatBackward0>)"
     },
     "execution_count": 18,
     "metadata": {},
     "output_type": "execute_result"
    }
   ],
   "source": [
    "remerged = torch.cat((full_scaled[230000:230005, :9], inf_scaled), 1)\n",
    "remerged"
   ]
  },
  {
   "cell_type": "code",
   "execution_count": 19,
   "metadata": {},
   "outputs": [
    {
     "data": {
      "text/plain": "tensor([[9.1735e+01, 1.5075e+02],\n        [6.1906e-02, 2.0320e+00],\n        [3.5074e-06, 1.8956e-03],\n        [1.6496e+01, 2.6012e+02],\n        [1.9749e+02, 2.2834e+01]])"
     },
     "execution_count": 19,
     "metadata": {},
     "output_type": "execute_result"
    }
   ],
   "source": [
    "torch.tensor(scaler.inverse_transform(remerged.detach().numpy())[:, 9:])"
   ]
  },
  {
   "cell_type": "code",
   "execution_count": 20,
   "metadata": {},
   "outputs": [
    {
     "data": {
      "text/plain": "tensor([[146.0171,  81.0928],\n        [  0.0000,   0.0000],\n        [  0.0000,   0.0000],\n        [ 15.5708, 219.3682],\n        [203.0780,  39.5046]])"
     },
     "execution_count": 20,
     "metadata": {},
     "output_type": "execute_result"
    }
   ],
   "source": [
    "full_tensor[230000:230005, 9:]"
   ]
  },
  {
   "cell_type": "code",
   "execution_count": 88,
   "metadata": {},
   "outputs": [],
   "source": [
    "myin = torch.tensor([4.,4,2,2,30,20,3600000000, 20000000, 200])"
   ]
  },
  {
   "cell_type": "code",
   "execution_count": 89,
   "outputs": [],
   "source": [
    "myin2 = torch.cat((myin, torch.tensor([0, 0.])), 0)"
   ],
   "metadata": {
    "collapsed": false
   }
  },
  {
   "cell_type": "code",
   "execution_count": 90,
   "outputs": [],
   "source": [
    "myin3 = scaler.transform(myin2.reshape(1,-1))"
   ],
   "metadata": {
    "collapsed": false
   }
  },
  {
   "cell_type": "code",
   "execution_count": 91,
   "outputs": [],
   "source": [
    "myins4 = torch.tensor(myin3[:, :9]).float()"
   ],
   "metadata": {
    "collapsed": false
   }
  },
  {
   "cell_type": "code",
   "execution_count": 92,
   "outputs": [
    {
     "data": {
      "text/plain": "tensor([[0.2992, 0.3499]], grad_fn=<SigmoidBackward0>)"
     },
     "execution_count": 92,
     "metadata": {},
     "output_type": "execute_result"
    }
   ],
   "source": [
    "model(myins4)"
   ],
   "metadata": {
    "collapsed": false
   }
  },
  {
   "cell_type": "code",
   "execution_count": null,
   "outputs": [],
   "source": [],
   "metadata": {
    "collapsed": false
   }
  }
 ],
 "metadata": {
  "kernelspec": {
   "display_name": "Python 3 (ipykernel)",
   "language": "python",
   "name": "python3"
  },
  "language_info": {
   "codemirror_mode": {
    "name": "ipython",
    "version": 3
   },
   "file_extension": ".py",
   "mimetype": "text/x-python",
   "name": "python",
   "nbconvert_exporter": "python",
   "pygments_lexer": "ipython3",
   "version": "3.10.9"
  }
 },
 "nbformat": 4,
 "nbformat_minor": 1
}
