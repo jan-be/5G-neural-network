{
 "cells": [
  {
   "cell_type": "code",
   "execution_count": 1,
   "metadata": {},
   "outputs": [],
   "source": [
    "import torch\n",
    "import torch.nn as nn\n",
    "import pandas as pd\n",
    "from torch.utils.data import DataLoader\n",
    "from sklearn import preprocessing"
   ]
  },
  {
   "cell_type": "code",
   "execution_count": 2,
   "metadata": {},
   "outputs": [
    {
     "data": {
      "text/plain": [
       "'cpu'"
      ]
     },
     "execution_count": 2,
     "metadata": {},
     "output_type": "execute_result"
    }
   ],
   "source": [
    "device = torch.device(\"cuda:0\" if torch.cuda.is_available() else \"cpu\")\n",
    "device = \"cpu\"\n",
    "device"
   ]
  },
  {
   "cell_type": "code",
   "execution_count": 3,
   "metadata": {},
   "outputs": [],
   "source": [
    "#based on https://towardsdatascience.com/build-a-simple-neural-network-using-pytorch-38c55158028d\n",
    "n_input, n_hidden, n_hidden2, n_out, batch_size, learning_rate, momentum, num_workers = 9, 15, 10, 2, 32, 0.001, 0.99, 0"
   ]
  },
  {
   "cell_type": "code",
   "execution_count": 4,
   "metadata": {},
   "outputs": [
    {
     "data": {
      "text/plain": [
       "(237484, 11)"
      ]
     },
     "execution_count": 4,
     "metadata": {},
     "output_type": "execute_result"
    }
   ],
   "source": [
    "full_pd = pd.read_csv('237k.csv')\n",
    "full_tensor = torch.tensor(full_pd.to_numpy()).float()\n",
    "full_tensor[:10, :]\n",
    "full_pd.shape"
   ]
  },
  {
   "cell_type": "code",
   "execution_count": 5,
   "metadata": {},
   "outputs": [],
   "source": [
    "scaler = preprocessing.MinMaxScaler()"
   ]
  },
  {
   "cell_type": "code",
   "execution_count": 6,
   "metadata": {},
   "outputs": [
    {
     "data": {
      "text/plain": [
       "tensor([[0.0000e+00, 0.0000e+00, 1.4286e-01, 1.4286e-01, 3.1193e-01, 4.0891e-01,\n",
       "         7.9886e-01, 7.3915e-01, 3.0244e-03, 5.5611e-02, 5.8032e-01],\n",
       "        [4.2857e-01, 0.0000e+00, 2.8571e-01, 5.7143e-01, 3.7063e-01, 4.2484e-01,\n",
       "         8.6386e-01, 7.3438e-01, 4.4560e-04, 1.0000e+00, 5.4318e-03],\n",
       "        [2.8571e-01, 8.5714e-01, 0.0000e+00, 8.5714e-01, 6.6664e-02, 6.9349e-01,\n",
       "         5.0336e-01, 6.1156e-01, 4.1963e-05, 1.0000e+00, 5.3588e-03],\n",
       "        [1.4286e-01, 7.1429e-01, 7.1429e-01, 1.4286e-01, 5.7649e-02, 9.4421e-01,\n",
       "         5.6026e-01, 7.1128e-01, 3.8886e-04, 1.0000e+00, 5.4436e-03],\n",
       "        [2.8571e-01, 0.0000e+00, 5.7143e-01, 5.7143e-01, 3.2106e-01, 3.5409e-01,\n",
       "         5.8771e-01, 6.2953e-01, 1.2502e-03, 6.7290e-01, 1.2079e-01],\n",
       "        [4.2857e-01, 1.4286e-01, 4.2857e-01, 4.2857e-01, 9.0662e-01, 2.9580e-01,\n",
       "         1.0988e-01, 4.7156e-01, 1.6752e-02, 8.0884e-01, 1.0302e-01],\n",
       "        [7.1429e-01, 1.0000e+00, 0.0000e+00, 8.5714e-01, 4.1767e-01, 8.2794e-01,\n",
       "         6.9862e-01, 5.5980e-02, 9.9998e-03, 2.2781e-02, 6.7548e-01],\n",
       "        [2.8571e-01, 7.1429e-01, 2.8571e-01, 7.1429e-01, 7.0780e-01, 8.6894e-01,\n",
       "         2.5030e-01, 8.0666e-01, 5.9413e-04, 1.0000e+00, 5.2029e-03],\n",
       "        [0.0000e+00, 1.4286e-01, 4.2857e-01, 8.5714e-01, 7.8031e-01, 6.5345e-01,\n",
       "         7.4683e-01, 4.7068e-01, 4.6478e-04, 1.0000e+00, 5.5228e-03],\n",
       "        [4.2857e-01, 1.0000e+00, 4.2857e-01, 4.2857e-01, 5.6662e-03, 9.1983e-01,\n",
       "         2.4771e-01, 9.4918e-01, 1.0840e-01, 0.0000e+00, 0.0000e+00]])"
      ]
     },
     "execution_count": 6,
     "metadata": {},
     "output_type": "execute_result"
    }
   ],
   "source": [
    "full_scaled = torch.tensor(scaler.fit_transform(full_tensor)).float()\n",
    "full_scaled[:10, :]"
   ]
  },
  {
   "cell_type": "code",
   "execution_count": 7,
   "metadata": {},
   "outputs": [],
   "source": [
    "train_n = {\"data\": full_scaled[:80000, :9].to(device), \"target\": full_scaled[:80000, 9:].to(device)}\n",
    "test_n = {\"data\": full_scaled[:-10000, :9].to(device), \"target\": full_scaled[:-10000, 9:].to(device)}\n",
    "\n",
    "test_n[\"data\"].requires_grad=False\n",
    "test_n[\"target\"].requires_grad=False\n",
    "\n",
    "train, validate, test = torch.utils.data.random_split(full_scaled, [200000, 27484, 10000])\n",
    "#train, validate, test = torch.utils.data.random_split(full_scaled, [80000, 14765, 10000])\n",
    "train_loader = DataLoader(train, batch_size=batch_size, num_workers=num_workers, pin_memory=True)"
   ]
  },
  {
   "cell_type": "code",
   "execution_count": 8,
   "metadata": {},
   "outputs": [
    {
     "name": "stdout",
     "output_type": "stream",
     "text": [
      "Sequential(\n",
      "  (0): Linear(in_features=9, out_features=15, bias=True)\n",
      "  (1): ReLU()\n",
      "  (2): Linear(in_features=15, out_features=10, bias=True)\n",
      "  (3): ReLU()\n",
      "  (4): Linear(in_features=10, out_features=2, bias=True)\n",
      "  (5): Sigmoid()\n",
      ")\n"
     ]
    }
   ],
   "source": [
    "model = nn.Sequential(nn.Linear(9, 15),\n",
    "                      nn.ReLU(),\n",
    "                      nn.Linear(15, 10),\n",
    "                      nn.ReLU(),\n",
    "                      nn.Linear(10, 2),\n",
    "                      nn.Sigmoid())\n",
    "model.to(device)\n",
    "print(model)"
   ]
  },
  {
   "cell_type": "code",
   "execution_count": 9,
   "metadata": {},
   "outputs": [],
   "source": [
    "loss_function = nn.HuberLoss()\n",
    "optimizer = torch.optim.SGD(model.parameters(), lr=learning_rate, momentum=momentum)"
   ]
  },
  {
   "cell_type": "code",
   "execution_count": 10,
   "metadata": {},
   "outputs": [
    {
     "name": "stdout",
     "output_type": "stream",
     "text": [
      "64.53242421150208\n"
     ]
    }
   ],
   "source": [
    "#torch.multiprocessing.set_start_method('spawn')\n",
    "import time\n",
    "\n",
    "tim = time.time()\n",
    "\n",
    "losses = []\n",
    "test_losses = []\n",
    "for i in range(15):\n",
    "    for j, item in enumerate(train_loader):\n",
    "        train_x, train_y = item[:, :9], item[:, 9:]\n",
    "        \n",
    "        train_x = train_x.to(device)\n",
    "        train_y = train_y.to(device)\n",
    "        \n",
    "        pred_y = model(train_x)\n",
    "        loss = loss_function(pred_y, train_y)\n",
    "        losses.append(loss.item())\n",
    "\n",
    "        model.zero_grad()\n",
    "        loss.backward()\n",
    "\n",
    "        optimizer.step()\n",
    "        \n",
    "    test_pred_y = model(test_n[\"data\"])\n",
    "    test_loss = loss_function(test_pred_y, test_n[\"target\"])\n",
    "    test_losses.append(test_loss)\n",
    "    \n",
    "print(time.time() - tim)"
   ]
  },
  {
   "cell_type": "code",
   "execution_count": 11,
   "metadata": {},
   "outputs": [],
   "source": [
    "#losses = []\n",
    "#test_losses = []\n",
    "#for i in range(100):\n",
    "#    for j in range(0, train_n[\"data\"].shape[0], batch_size):\n",
    "#        train_x, train_y = train_n[\"data\"][j:j+batch_size], train_n[\"target\"][j:j+batch_size]\n",
    "#        \n",
    "#        pred_y = model(train_x)\n",
    "#        loss = loss_function(pred_y, train_y)\n",
    "#        losses.append(loss.item())\n",
    "#\n",
    "#        model.zero_grad()\n",
    "#        loss.backward()\n",
    "#\n",
    "#        optimizer.step()\n",
    "#\n",
    "#    test_pred_y = model(test_n[\"data\"])\n",
    "#    test_loss = loss_function(test_pred_y, test_n[\"target\"])\n",
    "#    test_losses.append(test_loss)"
   ]
  },
  {
   "cell_type": "code",
   "execution_count": 12,
   "metadata": {},
   "outputs": [
    {
     "data": {
      "image/png": "[encoded data removed]",
      "text/plain": [
       "<Figure size 640x480 with 1 Axes>"
      ]
     },
     "metadata": {},
     "output_type": "display_data"
    }
   ],
   "source": [
    "import matplotlib.pyplot as plt\n",
    "plt.plot(losses)\n",
    "plt.ylabel('loss')\n",
    "plt.xlabel('epoch')\n",
    "plt.title(\"Learning rate %f\"%(learning_rate))\n",
    "plt.show()"
   ]
  },
  {
   "cell_type": "code",
   "execution_count": 13,
   "metadata": {},
   "outputs": [
    {
     "data": {
      "text/plain": [
       "[tensor(0.0462, grad_fn=<HuberLossBackward0>),\n",
       " tensor(0.0440, grad_fn=<HuberLossBackward0>),\n",
       " tensor(0.0398, grad_fn=<HuberLossBackward0>),\n",
       " tensor(0.0319, grad_fn=<HuberLossBackward0>),\n",
       " tensor(0.0256, grad_fn=<HuberLossBackward0>),\n",
       " tensor(0.0215, grad_fn=<HuberLossBackward0>),\n",
       " tensor(0.0188, grad_fn=<HuberLossBackward0>),\n",
       " tensor(0.0174, grad_fn=<HuberLossBackward0>),\n",
       " tensor(0.0154, grad_fn=<HuberLossBackward0>),\n",
       " tensor(0.0152, grad_fn=<HuberLossBackward0>),\n",
       " tensor(0.0143, grad_fn=<HuberLossBackward0>),\n",
       " tensor(0.0136, grad_fn=<HuberLossBackward0>),\n",
       " tensor(0.0134, grad_fn=<HuberLossBackward0>),\n",
       " tensor(0.0131, grad_fn=<HuberLossBackward0>),\n",
       " tensor(0.0120, grad_fn=<HuberLossBackward0>)]"
      ]
     },
     "execution_count": 13,
     "metadata": {},
     "output_type": "execute_result"
    }
   ],
   "source": [
    "test_losses"
   ]
  },
  {
   "cell_type": "code",
   "execution_count": 14,
   "metadata": {},
   "outputs": [
    {
     "data": {
      "text/plain": [
       "tensor([1.0000e+00, 1.3725e-37], grad_fn=<SigmoidBackward0>)"
      ]
     },
     "execution_count": 14,
     "metadata": {},
     "output_type": "execute_result"
    }
   ],
   "source": [
    "#                                      bandwidth ↓\n",
    "model(torch.tensor([1., 1., 1., 1., 1., 1., 1., 100., 1.]))"
   ]
  },
  {
   "cell_type": "code",
   "execution_count": 15,
   "metadata": {},
   "outputs": [
    {
     "data": {
      "text/plain": [
       "tensor([1., 0.], grad_fn=<SigmoidBackward0>)"
      ]
     },
     "execution_count": 15,
     "metadata": {},
     "output_type": "execute_result"
    }
   ],
   "source": [
    "#                                      bandwidth ↓\n",
    "model(torch.tensor([1., 1., 1., 1., 1., 1., 1., 1000., 1.]))"
   ]
  },
  {
   "cell_type": "code",
   "execution_count": 40,
   "metadata": {},
   "outputs": [
    {
     "data": {
      "text/plain": [
       "tensor([[0.7143, 0.1429, 0.8571, 0.8571, 0.0414, 0.3125, 0.9896, 0.2268, 0.0122],\n",
       "        [0.2857, 0.0000, 0.1429, 0.5714, 0.2663, 0.2709, 0.1838, 0.1776, 0.0473],\n",
       "        [0.1429, 0.5714, 1.0000, 0.0000, 0.4313, 0.2390, 0.4142, 0.0838, 0.0057],\n",
       "        [0.2857, 0.2857, 0.4286, 1.0000, 0.3217, 0.1153, 0.0198, 0.7515, 0.0012],\n",
       "        [0.4286, 1.0000, 0.5714, 0.7143, 0.6107, 0.3593, 0.8061, 0.3274, 0.0028]])"
      ]
     },
     "execution_count": 40,
     "metadata": {},
     "output_type": "execute_result"
    }
   ],
   "source": [
    "full_scaled[230000:230005, :9]"
   ]
  },
  {
   "cell_type": "code",
   "execution_count": 41,
   "metadata": {},
   "outputs": [
    {
     "data": {
      "text/plain": [
       "tensor([[    0.0048,     0.2833],\n",
       "        [    0.0000,     0.0805],\n",
       "        [    0.1381,     0.4429],\n",
       "        [    0.9281,     0.1024],\n",
       "        [    0.8804,     0.1502]], grad_fn=<SigmoidBackward0>)"
      ]
     },
     "execution_count": 41,
     "metadata": {},
     "output_type": "execute_result"
    }
   ],
   "source": [
    "inf_scaled = model(full_scaled[230000:230005, :9])\n",
    "inf_scaled"
   ]
  },
  {
   "cell_type": "code",
   "execution_count": 42,
   "metadata": {},
   "outputs": [
    {
     "data": {
      "text/plain": [
       "tensor([[    0.7143,     0.1429,     0.8571,     0.8571,     0.0414,     0.3125,\n",
       "             0.9896,     0.2268,     0.0122,     0.0048,     0.2833],\n",
       "        [    0.2857,     0.0000,     0.1429,     0.5714,     0.2663,     0.2709,\n",
       "             0.1838,     0.1776,     0.0473,     0.0000,     0.0805],\n",
       "        [    0.1429,     0.5714,     1.0000,     0.0000,     0.4313,     0.2390,\n",
       "             0.4142,     0.0838,     0.0057,     0.1381,     0.4429],\n",
       "        [    0.2857,     0.2857,     0.4286,     1.0000,     0.3217,     0.1153,\n",
       "             0.0198,     0.7515,     0.0012,     0.9281,     0.1024],\n",
       "        [    0.4286,     1.0000,     0.5714,     0.7143,     0.6107,     0.3593,\n",
       "             0.8061,     0.3274,     0.0028,     0.8804,     0.1502]],\n",
       "       grad_fn=<CatBackward0>)"
      ]
     },
     "execution_count": 42,
     "metadata": {},
     "output_type": "execute_result"
    }
   ],
   "source": [
    "remerged = torch.cat((full_scaled[230000:230005, :9], inf_scaled), 1)\n",
    "remerged"
   ]
  },
  {
   "cell_type": "code",
   "execution_count": 43,
   "metadata": {},
   "outputs": [
    {
     "data": {
      "text/plain": [
       "tensor([[    0.9780,   161.7339],\n",
       "        [    0.0001,    45.9630],\n",
       "        [   28.2423,   252.8311],\n",
       "        [  189.8556,    58.4410],\n",
       "        [  180.1056,    85.7350]])"
      ]
     },
     "execution_count": 43,
     "metadata": {},
     "output_type": "execute_result"
    }
   ],
   "source": [
    "torch.tensor(scaler.inverse_transform(remerged.detach().numpy())[:, 9:])"
   ]
  },
  {
   "cell_type": "code",
   "execution_count": 44,
   "metadata": {},
   "outputs": [
    {
     "data": {
      "text/plain": [
       "tensor([[  0.0000,   0.0000],\n",
       "        [  0.0000,   0.0000],\n",
       "        [ 15.5708, 219.3682],\n",
       "        [203.0780,  39.5046],\n",
       "        [204.5720,  10.0000]])"
      ]
     },
     "execution_count": 44,
     "metadata": {},
     "output_type": "execute_result"
    }
   ],
   "source": [
    "full_tensor[230000:230005, 9:]"
   ]
  },
  {
   "cell_type": "code",
   "execution_count": null,
   "metadata": {},
   "outputs": [],
   "source": []
  }
 ],
 "metadata": {
  "kernelspec": {
   "display_name": "Python 3 (ipykernel)",
   "language": "python",
   "name": "python3"
  },
  "language_info": {
   "codemirror_mode": {
    "name": "ipython",
    "version": 3
   },
   "file_extension": ".py",
   "mimetype": "text/x-python",
   "name": "python",
   "nbconvert_exporter": "python",
   "pygments_lexer": "ipython3",
   "version": "3.10.9"
  }
 },
 "nbformat": 4,
 "nbformat_minor": 1
}
