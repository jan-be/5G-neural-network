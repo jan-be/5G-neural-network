{
 "cells": [
  {
   "cell_type": "code",
   "execution_count": 1,
   "outputs": [],
   "source": [
    "import torch\n",
    "import torch.nn as nn\n",
    "import pandas as pd\n",
    "from torch.utils.data import DataLoader"
   ],
   "metadata": {
    "collapsed": false
   }
  },
  {
   "cell_type": "code",
   "execution_count": 17,
   "outputs": [],
   "source": [
    "#based on https://towardsdatascience.com/build-a-simple-neural-network-using-pytorch-38c55158028d\n",
    "n_input, n_hidden, n_hidden2, n_out, batch_size, learning_rate = 9, 15, 10, 2, 10, 0.001"
   ],
   "metadata": {
    "collapsed": false
   }
  },
  {
   "cell_type": "code",
   "execution_count": 18,
   "outputs": [],
   "source": [
    "train_pd = pd.read_csv('104k.csv')\n",
    "train_tensor = torch.tensor(train_pd.to_numpy()).float()"
   ],
   "metadata": {
    "collapsed": false
   }
  },
  {
   "cell_type": "code",
   "execution_count": 19,
   "outputs": [
    {
     "name": "stdout",
     "output_type": "stream",
     "text": [
      "torch.Size([104765, 11])\n",
      "tensor([[4.0000e+00, 4.0000e+00, 1.0000e+00, 3.0000e+00, 4.0895e+00, 3.8699e+01,\n",
      "         1.4250e+09, 3.3358e+07, 1.7946e+02, 1.7736e+01, 3.0658e+02],\n",
      "        [1.0000e+00, 1.0000e+00, 2.0000e+00, 2.0000e+00, 1.6284e+01, 1.6947e+01,\n",
      "         2.9368e+09, 7.4176e+07, 1.9727e+02, 1.1377e+01, 3.3131e+02],\n",
      "        [4.0000e+00, 1.0000e+00, 3.0000e+00, 5.0000e+00, 1.9161e+01, 1.7569e+01,\n",
      "         3.1188e+09, 7.3704e+07, 2.9078e+01, 2.0457e+02, 3.1011e+00],\n",
      "        [3.0000e+00, 7.0000e+00, 1.0000e+00, 7.0000e+00, 4.2667e+00, 2.8046e+01,\n",
      "         2.1094e+09, 6.1545e+07, 2.7522e+00, 2.0457e+02, 3.0594e+00],\n",
      "        [2.0000e+00, 6.0000e+00, 6.0000e+00, 2.0000e+00, 3.8249e+00, 3.7824e+01,\n",
      "         2.2687e+09, 7.1417e+07, 2.5378e+01, 2.0457e+02, 3.1078e+00],\n",
      "        [3.0000e+00, 1.0000e+00, 5.0000e+00, 5.0000e+00, 1.6732e+01, 1.4809e+01,\n",
      "         2.3456e+09, 6.3324e+07, 8.1557e+01, 1.3766e+02, 6.8962e+01],\n",
      "        [4.0000e+00, 2.0000e+00, 4.0000e+00, 4.0000e+00, 4.5424e+01, 1.2536e+01,\n",
      "         1.0077e+09, 4.7684e+07, 1.0926e+03, 1.6547e+02, 5.8814e+01],\n",
      "        [6.0000e+00, 8.0000e+00, 1.0000e+00, 7.0000e+00, 2.1466e+01, 3.3289e+01,\n",
      "         2.6561e+09, 6.5422e+06, 6.5222e+02, 4.6603e+00, 3.8564e+02],\n",
      "        [3.0000e+00, 6.0000e+00, 3.0000e+00, 6.0000e+00, 3.5682e+01, 3.4889e+01,\n",
      "         1.4008e+09, 8.0859e+07, 3.8766e+01, 2.0457e+02, 2.9704e+00],\n",
      "        [1.0000e+00, 2.0000e+00, 4.0000e+00, 7.0000e+00, 3.9235e+01, 2.6484e+01,\n",
      "         2.7911e+09, 4.7597e+07, 3.0329e+01, 2.0457e+02, 3.1530e+00]]) tensor([[2.4475e-03, 2.4497e-03, 6.1114e-04, 1.8324e-03, 4.3489e-04, 5.1089e-03,\n",
      "         1.9592e-03, 1.7934e-03, 1.6428e-04, 3.7503e-04, 6.5799e-03],\n",
      "        [6.1188e-04, 6.1242e-04, 1.2223e-03, 1.2216e-03, 1.7317e-03, 2.2373e-03,\n",
      "         4.0378e-03, 3.9878e-03, 1.8059e-04, 2.4055e-04, 7.1106e-03],\n",
      "        [2.4475e-03, 6.1242e-04, 1.8334e-03, 3.0541e-03, 2.0376e-03, 2.3193e-03,\n",
      "         4.2880e-03, 3.9624e-03, 2.6619e-05, 4.3256e-03, 6.6555e-05],\n",
      "        [1.8356e-03, 4.2870e-03, 6.1114e-04, 4.2757e-03, 4.5373e-04, 3.7025e-03,\n",
      "         2.9002e-03, 3.3087e-03, 2.5195e-06, 4.3256e-03, 6.5661e-05],\n",
      "        [1.2238e-03, 3.6745e-03, 3.6668e-03, 1.2216e-03, 4.0675e-04, 4.9934e-03,\n",
      "         3.1192e-03, 3.8395e-03, 2.3232e-05, 4.3256e-03, 6.6700e-05],\n",
      "        [1.8356e-03, 6.1242e-04, 3.0557e-03, 3.0541e-03, 1.7793e-03, 1.9551e-03,\n",
      "         3.2249e-03, 3.4044e-03, 7.4661e-05, 2.9107e-03, 1.4801e-03],\n",
      "        [2.4475e-03, 1.2248e-03, 2.4446e-03, 2.4433e-03, 4.8305e-03, 1.6550e-03,\n",
      "         1.3854e-03, 2.5636e-03, 1.0002e-03, 3.4988e-03, 1.2623e-03],\n",
      "        [3.6713e-03, 4.8994e-03, 6.1114e-04, 4.2757e-03, 2.2827e-03, 4.3947e-03,\n",
      "         3.6519e-03, 3.5172e-04, 5.9707e-04, 9.8540e-05, 8.2766e-03],\n",
      "        [1.8356e-03, 3.6745e-03, 1.8334e-03, 3.6649e-03, 3.7945e-03, 4.6059e-03,\n",
      "         1.9260e-03, 4.3471e-03, 3.5488e-05, 4.3256e-03, 6.3751e-05],\n",
      "        [6.1188e-04, 1.2248e-03, 2.4446e-03, 4.2757e-03, 4.1723e-03, 3.4964e-03,\n",
      "         3.8375e-03, 2.5589e-03, 2.7765e-05, 4.3256e-03, 6.7670e-05]])\n"
     ]
    }
   ],
   "source": [
    "train_normalized = torch.nn.functional.normalize(train_tensor, dim=0)\n",
    "print(train_normalized.shape)\n",
    "\n",
    "print(train_tensor[0:10], train_normalized[0:10])"
   ],
   "metadata": {
    "collapsed": false
   }
  },
  {
   "cell_type": "code",
   "execution_count": 20,
   "outputs": [],
   "source": [
    "train, validate, test = torch.utils.data.random_split(train_normalized, [80000, 10000, 14765])\n",
    "train_loader = DataLoader(train, batch_size=batch_size)"
   ],
   "metadata": {
    "collapsed": false
   }
  },
  {
   "cell_type": "code",
   "execution_count": 21,
   "outputs": [],
   "source": [
    "# train_x = train_tensor[:28000, :9].float()\n",
    "# train_y = train_tensor[:28000, 9:10].float()\n",
    "\n",
    "# train_x = torch.randn(batch_size, n_input)\n",
    "# train_y = (torch.rand(size=(batch_size, 1)) < 0.5).float()\n",
    "#\n",
    "# print(train_x.shape, train_y.shape)"
   ],
   "metadata": {
    "collapsed": false
   }
  },
  {
   "cell_type": "code",
   "execution_count": 22,
   "outputs": [
    {
     "name": "stdout",
     "output_type": "stream",
     "text": [
      "Sequential(\n",
      "  (0): Linear(in_features=9, out_features=15, bias=True)\n",
      "  (1): ReLU()\n",
      "  (2): Linear(in_features=15, out_features=10, bias=True)\n",
      "  (3): ReLU()\n",
      "  (4): Linear(in_features=10, out_features=2, bias=True)\n",
      "  (5): Sigmoid()\n",
      ")\n"
     ]
    }
   ],
   "source": [
    "model = nn.Sequential(nn.Linear(n_input, n_hidden),\n",
    "                      nn.ReLU(),\n",
    "                      nn.Linear(n_hidden, n_hidden2),\n",
    "                      nn.ReLU(),\n",
    "                      nn.Linear(n_hidden2, n_out),\n",
    "                      nn.Sigmoid())\n",
    "print(model)"
   ],
   "metadata": {
    "collapsed": false
   }
  },
  {
   "cell_type": "code",
   "execution_count": 39,
   "outputs": [],
   "source": [
    "loss_function = nn.HuberLoss()\n",
    "optimizer = torch.optim.SGD(model.parameters(), lr=learning_rate, momentum=0.99)"
   ],
   "metadata": {
    "collapsed": false
   }
  },
  {
   "cell_type": "code",
   "execution_count": 40,
   "outputs": [],
   "source": [
    "losses = []\n",
    "for i in range(10):\n",
    "    for j, item in enumerate(train_loader):\n",
    "        train_x, train_y = item[:, :9], item[:, 9:]\n",
    "        pred_y = model(train_x)\n",
    "        loss = loss_function(pred_y, train_y)\n",
    "        losses.append(loss.item())\n",
    "\n",
    "        model.zero_grad()\n",
    "        loss.backward()\n",
    "\n",
    "        optimizer.step()"
   ],
   "metadata": {
    "collapsed": false
   }
  },
  {
   "cell_type": "code",
   "execution_count": 41,
   "outputs": [
    {
     "data": {
      "text/plain": "<Figure size 640x480 with 1 Axes>",
      "image/png": "[encoded data removed]"
     },
     "metadata": {},
     "output_type": "display_data"
    }
   ],
   "source": [
    "import matplotlib.pyplot as plt\n",
    "plt.plot(losses)\n",
    "plt.ylabel('loss')\n",
    "plt.xlabel('epoch')\n",
    "plt.title(\"Learning rate %f\"%(learning_rate))\n",
    "plt.show()"
   ],
   "metadata": {
    "collapsed": false
   }
  },
  {
   "cell_type": "code",
   "execution_count": 42,
   "outputs": [
    {
     "data": {
      "text/plain": "tensor([1.2432e-33, 4.0030e-34], grad_fn=<SigmoidBackward0>)"
     },
     "execution_count": 42,
     "metadata": {},
     "output_type": "execute_result"
    }
   ],
   "source": [
    "#                                      bandwidth ↓\n",
    "model(torch.tensor([1., 1., 1., 1., 1., 1., 1., 100., 1.]))"
   ],
   "metadata": {
    "collapsed": false
   }
  },
  {
   "cell_type": "code",
   "execution_count": 43,
   "outputs": [
    {
     "data": {
      "text/plain": "tensor([0., 0.], grad_fn=<SigmoidBackward0>)"
     },
     "execution_count": 43,
     "metadata": {},
     "output_type": "execute_result"
    }
   ],
   "source": [
    "#                                      bandwidth ↓\n",
    "model(torch.tensor([1., 1., 1., 1., 1., 1., 1., 1000., 1.]))"
   ],
   "metadata": {
    "collapsed": false
   }
  },
  {
   "cell_type": "code",
   "execution_count": 44,
   "outputs": [
    {
     "data": {
      "text/plain": "tensor([[0.0030, 0.0028],\n        [0.0030, 0.0028],\n        [0.0030, 0.0028],\n        [0.0030, 0.0028],\n        [0.0030, 0.0028],\n        [0.0030, 0.0028],\n        [0.0030, 0.0028],\n        [0.0030, 0.0028],\n        [0.0030, 0.0028],\n        [0.0030, 0.0028],\n        [0.0030, 0.0028],\n        [0.0030, 0.0028],\n        [0.0030, 0.0028],\n        [0.0030, 0.0028],\n        [0.0030, 0.0028],\n        [0.0030, 0.0028],\n        [0.0030, 0.0028],\n        [0.0030, 0.0028],\n        [0.0030, 0.0028],\n        [0.0030, 0.0028],\n        [0.0030, 0.0028],\n        [0.0030, 0.0028],\n        [0.0030, 0.0028],\n        [0.0030, 0.0028],\n        [0.0030, 0.0028],\n        [0.0030, 0.0028],\n        [0.0030, 0.0028],\n        [0.0030, 0.0028],\n        [0.0030, 0.0028],\n        [0.0030, 0.0028],\n        [0.0030, 0.0028],\n        [0.0030, 0.0028],\n        [0.0030, 0.0028],\n        [0.0030, 0.0028],\n        [0.0030, 0.0028],\n        [0.0030, 0.0028],\n        [0.0030, 0.0028],\n        [0.0030, 0.0028],\n        [0.0030, 0.0028],\n        [0.0030, 0.0028],\n        [0.0030, 0.0028],\n        [0.0030, 0.0028],\n        [0.0030, 0.0028],\n        [0.0030, 0.0028],\n        [0.0030, 0.0028],\n        [0.0030, 0.0028],\n        [0.0030, 0.0028],\n        [0.0030, 0.0028],\n        [0.0030, 0.0028],\n        [0.0030, 0.0028]], grad_fn=<SigmoidBackward0>)"
     },
     "execution_count": 44,
     "metadata": {},
     "output_type": "execute_result"
    }
   ],
   "source": [
    "model(train_normalized[10000:10050, :9])"
   ],
   "metadata": {
    "collapsed": false
   }
  },
  {
   "cell_type": "code",
   "execution_count": 45,
   "outputs": [
    {
     "data": {
      "text/plain": "tensor([[2.7835e-03, 3.0122e-03],\n        [3.6944e-03, 1.4306e-03],\n        [0.0000e+00, 0.0000e+00],\n        [3.1405e-03, 2.0596e-03],\n        [4.3256e-03, 1.1495e-04],\n        [3.3805e-03, 2.1261e-03],\n        [0.0000e+00, 0.0000e+00],\n        [4.2216e-03, 1.3012e-03],\n        [4.3256e-03, 7.9119e-05],\n        [4.3256e-03, 7.1523e-05],\n        [7.2340e-04, 3.9398e-03],\n        [4.3256e-03, 1.0061e-04],\n        [4.3256e-03, 6.9412e-05],\n        [2.2131e-03, 4.2890e-03],\n        [3.4286e-03, 1.4887e-03],\n        [4.3256e-03, 8.3677e-05],\n        [0.0000e+00, 0.0000e+00],\n        [4.2894e-04, 4.2203e-03],\n        [4.3256e-03, 1.1138e-04],\n        [0.0000e+00, 0.0000e+00],\n        [3.6863e-03, 1.8979e-04],\n        [4.3039e-03, 1.4825e-04],\n        [2.0433e-04, 5.4954e-03],\n        [8.1354e-04, 5.3626e-03],\n        [1.8543e-03, 3.8208e-03],\n        [4.3256e-03, 7.8629e-05],\n        [2.3968e-04, 6.2159e-03],\n        [0.0000e+00, 0.0000e+00],\n        [4.3256e-03, 8.3519e-05],\n        [4.3256e-03, 6.5691e-05],\n        [2.7429e-03, 2.5049e-03],\n        [3.6880e-03, 5.2803e-04],\n        [1.5158e-04, 7.0725e-03],\n        [4.3039e-03, 1.0365e-04],\n        [4.3256e-03, 6.5716e-05],\n        [0.0000e+00, 0.0000e+00],\n        [4.3184e-03, 1.1007e-04],\n        [3.6069e-03, 1.1434e-03],\n        [5.9588e-04, 4.8522e-03],\n        [1.9760e-03, 3.6406e-03],\n        [2.1360e-04, 4.9381e-03],\n        [4.3256e-03, 6.7566e-05],\n        [2.3968e-04, 6.2159e-03],\n        [4.3256e-03, 6.5331e-05],\n        [3.3457e-03, 1.6544e-03],\n        [4.3256e-03, 6.5537e-05],\n        [4.3010e-03, 1.3788e-04],\n        [4.3256e-03, 6.3569e-05],\n        [4.8256e-04, 5.8528e-03],\n        [5.2168e-05, 4.6036e-03]])"
     },
     "execution_count": 45,
     "metadata": {},
     "output_type": "execute_result"
    }
   ],
   "source": [
    "train_normalized[10000:10050, 9:]"
   ],
   "metadata": {
    "collapsed": false
   }
  },
  {
   "cell_type": "code",
   "execution_count": 46,
   "outputs": [
    {
     "data": {
      "text/plain": "tensor([[131.6388, 140.3515],\n        [174.7189,  66.6575],\n        [  0.0000,   0.0000],\n        [148.5254,  95.9641],\n        [204.5720,   5.3558],\n        [159.8746,  99.0622],\n        [  0.0000,   0.0000],\n        [199.6513,  60.6270],\n        [204.5720,   3.6864],\n        [204.5720,   3.3325],\n        [ 34.2118, 183.5691],\n        [204.5720,   4.6876],\n        [204.5720,   3.2342],\n        [104.6641, 199.8391],\n        [162.1499,  69.3630],\n        [204.5720,   3.8988],\n        [  0.0000,   0.0000],\n        [ 20.2859, 196.6405],\n        [204.5720,   5.1895],\n        [  0.0000,   0.0000],\n        [174.3351,   8.8430],\n        [203.5440,   6.9075],\n        [  9.6632, 256.0486],\n        [ 38.4746, 249.8628],\n        [ 87.6953, 178.0235],\n        [204.5720,   3.6636],\n        [ 11.3354, 289.6215],\n        [  0.0000,   0.0000],\n        [204.5720,   3.8915],\n        [204.5720,   3.0608],\n        [129.7199, 116.7115],\n        [174.4173,  24.6028],\n        [  7.1686, 329.5350],\n        [203.5440,   4.8293],\n        [204.5720,   3.0620],\n        [  0.0000,   0.0000],\n        [204.2293,   5.1287],\n        [170.5795,  53.2728],\n        [ 28.1809, 226.0798],\n        [ 93.4520, 169.6288],\n        [ 10.1018, 230.0835],\n        [204.5720,   3.1482],\n        [ 11.3354, 289.6215],\n        [204.5720,   3.0440],\n        [158.2298,  77.0824],\n        [204.5720,   3.0536],\n        [203.4069,   6.4242],\n        [204.5720,   2.9619],\n        [ 22.8216, 272.7020],\n        [  2.4672, 214.4961]])"
     },
     "execution_count": 46,
     "metadata": {},
     "output_type": "execute_result"
    }
   ],
   "source": [
    "train_tensor[10000:10050, 9:]\n"
   ],
   "metadata": {
    "collapsed": false
   }
  },
  {
   "cell_type": "code",
   "execution_count": null,
   "outputs": [],
   "source": [],
   "metadata": {
    "collapsed": false
   }
  }
 ],
 "metadata": {
  "kernelspec": {
   "display_name": "Python 3",
   "language": "python",
   "name": "python3"
  },
  "language_info": {
   "codemirror_mode": {
    "name": "ipython",
    "version": 2
   },
   "file_extension": ".py",
   "mimetype": "text/x-python",
   "name": "python",
   "nbconvert_exporter": "python",
   "pygments_lexer": "ipython2",
   "version": "2.7.6"
  }
 },
 "nbformat": 4,
 "nbformat_minor": 0
}
