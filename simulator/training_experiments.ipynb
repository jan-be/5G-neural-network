{
 "cells": [
  {
   "cell_type": "code",
   "execution_count": 1,
   "metadata": {},
   "outputs": [],
   "source": [
    "import torch\n",
    "import torch.nn as nn\n",
    "import pandas as pd\n",
    "from torch.utils.data import DataLoader\n",
    "from sklearn import preprocessing"
   ]
  },
  {
   "cell_type": "code",
   "execution_count": 2,
   "metadata": {},
   "outputs": [
    {
     "data": {
      "text/plain": "'cpu'"
     },
     "execution_count": 2,
     "metadata": {},
     "output_type": "execute_result"
    }
   ],
   "source": [
    "device = torch.device(\"cuda:0\" if torch.cuda.is_available() else \"cpu\")\n",
    "device = \"cpu\"\n",
    "device"
   ]
  },
  {
   "cell_type": "code",
   "execution_count": 3,
   "metadata": {},
   "outputs": [],
   "source": [
    "#based on https://towardsdatascience.com/build-a-simple-neural-network-using-pytorch-38c55158028d\n",
    "n_input, n_hidden, n_hidden2, n_out, batch_size, learning_rate, momentum, num_workers, dropout = 9, 30, 11, 2, 100, 0.005, 0.95, 0, 0"
   ]
  },
  {
   "cell_type": "code",
   "execution_count": 4,
   "metadata": {},
   "outputs": [
    {
     "data": {
      "text/plain": "(237485, 11)"
     },
     "execution_count": 4,
     "metadata": {},
     "output_type": "execute_result"
    }
   ],
   "source": [
    "full_pd = pd.read_csv('../Dataset_237k.csv')\n",
    "full_tensor = torch.tensor(full_pd.to_numpy()).float()\n",
    "full_pd.shape"
   ]
  },
  {
   "cell_type": "code",
   "execution_count": 5,
   "metadata": {},
   "outputs": [],
   "source": [
    "scaler = preprocessing.MinMaxScaler()"
   ]
  },
  {
   "cell_type": "code",
   "execution_count": 6,
   "metadata": {},
   "outputs": [
    {
     "data": {
      "text/plain": "tensor([[4.2857e-01, 4.2857e-01, 0.0000e+00, 2.8571e-01, 6.3049e-02, 9.6665e-01,\n         2.5893e-01, 3.2685e-01, 2.7513e-03, 8.6700e-02, 5.3700e-01],\n        [0.0000e+00, 0.0000e+00, 1.4286e-01, 1.4286e-01, 3.1193e-01, 4.0891e-01,\n         7.9886e-01, 7.3915e-01, 3.0244e-03, 5.5611e-02, 5.8032e-01],\n        [4.2857e-01, 0.0000e+00, 2.8571e-01, 5.7143e-01, 3.7063e-01, 4.2484e-01,\n         8.6386e-01, 7.3438e-01, 4.4560e-04, 1.0000e+00, 5.4318e-03],\n        [2.8571e-01, 8.5714e-01, 0.0000e+00, 8.5714e-01, 6.6664e-02, 6.9349e-01,\n         5.0336e-01, 6.1156e-01, 4.1963e-05, 1.0000e+00, 5.3588e-03],\n        [1.4286e-01, 7.1429e-01, 7.1429e-01, 1.4286e-01, 5.7649e-02, 9.4421e-01,\n         5.6026e-01, 7.1128e-01, 3.8886e-04, 1.0000e+00, 5.4436e-03],\n        [2.8571e-01, 0.0000e+00, 5.7143e-01, 5.7143e-01, 3.2106e-01, 3.5409e-01,\n         5.8771e-01, 6.2953e-01, 1.2502e-03, 6.7290e-01, 1.2079e-01],\n        [4.2857e-01, 1.4286e-01, 4.2857e-01, 4.2857e-01, 9.0662e-01, 2.9580e-01,\n         1.0988e-01, 4.7156e-01, 1.6752e-02, 8.0884e-01, 1.0302e-01],\n        [7.1429e-01, 1.0000e+00, 0.0000e+00, 8.5714e-01, 4.1767e-01, 8.2794e-01,\n         6.9862e-01, 5.5980e-02, 9.9998e-03, 2.2781e-02, 6.7548e-01],\n        [2.8571e-01, 7.1429e-01, 2.8571e-01, 7.1429e-01, 7.0780e-01, 8.6894e-01,\n         2.5030e-01, 8.0666e-01, 5.9413e-04, 1.0000e+00, 5.2029e-03],\n        [0.0000e+00, 1.4286e-01, 4.2857e-01, 8.5714e-01, 7.8031e-01, 6.5345e-01,\n         7.4683e-01, 4.7068e-01, 4.6478e-04, 1.0000e+00, 5.5228e-03]])"
     },
     "execution_count": 6,
     "metadata": {},
     "output_type": "execute_result"
    }
   ],
   "source": [
    "full_scaled = torch.tensor(scaler.fit_transform(full_tensor)).float()\n",
    "full_scaled[:10, :]"
   ]
  },
  {
   "cell_type": "code",
   "execution_count": 7,
   "metadata": {},
   "outputs": [],
   "source": [
    "train_n = {\"data\": full_scaled[:80000, :9].to(device), \"target\": full_scaled[:80000, 9:].to(device)}\n",
    "test_n = {\"data\": full_scaled[:-10000, :9].to(device), \"target\": full_scaled[:-10000, 9:].to(device)}\n",
    "\n",
    "test_n[\"data\"].requires_grad=False\n",
    "test_n[\"target\"].requires_grad=False\n",
    "\n",
    "train, validate, test = torch.utils.data.random_split(full_scaled, [200000, 27485, 10000])\n",
    "\n",
    "train_loader = DataLoader(train, batch_size=batch_size, num_workers=num_workers, pin_memory=True)"
   ]
  },
  {
   "cell_type": "code",
   "execution_count": 8,
   "metadata": {},
   "outputs": [
    {
     "name": "stdout",
     "output_type": "stream",
     "text": [
      "Sequential(\n",
      "  (0): Linear(in_features=9, out_features=30, bias=True)\n",
      "  (1): Dropout(p=0, inplace=False)\n",
      "  (2): ReLU()\n",
      "  (3): Linear(in_features=30, out_features=11, bias=True)\n",
      "  (4): ReLU()\n",
      "  (5): Linear(in_features=11, out_features=2, bias=True)\n",
      "  (6): Sigmoid()\n",
      ")\n"
     ]
    }
   ],
   "source": [
    "model = nn.Sequential(nn.Linear(n_input, n_hidden),\n",
    "                      nn.Dropout(p=dropout),\n",
    "                      nn.ReLU(),\n",
    "                      nn.Linear(n_hidden, n_hidden2),\n",
    "                      nn.ReLU(),\n",
    "                      nn.Linear(n_hidden2, n_out),\n",
    "                      nn.Sigmoid())\n",
    "\n",
    "model.to(device)\n",
    "print(model)"
   ]
  },
  {
   "cell_type": "code",
   "execution_count": 9,
   "metadata": {},
   "outputs": [],
   "source": [
    "loss_function = nn.HuberLoss()\n",
    "optimizer = torch.optim.SGD(model.parameters(), lr=learning_rate, momentum=momentum)"
   ]
  },
  {
   "cell_type": "code",
   "execution_count": 10,
   "metadata": {},
   "outputs": [
    {
     "name": "stdout",
     "output_type": "stream",
     "text": [
      "Epoch  1/100 | training loss: 0.05015 | test loss: 0.05444 | true loss throughput: 0.01660 | true loss delay: 0.01035\n",
      "Epoch  2/100 | training loss: 0.04555 | test loss: 0.04886 | true loss throughput: 0.02035 | true loss delay: 0.01025\n",
      "Epoch  3/100 | training loss: 0.04289 | test loss: 0.04619 | true loss throughput: 0.02145 | true loss delay: 0.01040\n",
      "Epoch  4/100 | training loss: 0.04192 | test loss: 0.04511 | true loss throughput: 0.02220 | true loss delay: 0.01085\n",
      "Epoch  5/100 | training loss: 0.04112 | test loss: 0.04417 | true loss throughput: 0.02220 | true loss delay: 0.01280\n",
      "Epoch  6/100 | training loss: 0.04012 | test loss: 0.04298 | true loss throughput: 0.02245 | true loss delay: 0.01325\n",
      "Epoch  7/100 | training loss: 0.03859 | test loss: 0.04127 | true loss throughput: 0.02275 | true loss delay: 0.01200\n",
      "Epoch  8/100 | training loss: 0.03652 | test loss: 0.03883 | true loss throughput: 0.02305 | true loss delay: 0.01345\n",
      "Epoch  9/100 | training loss: 0.03374 | test loss: 0.03548 | true loss throughput: 0.02335 | true loss delay: 0.01345\n",
      "Epoch 10/100 | training loss: 0.03089 | test loss: 0.03199 | true loss throughput: 0.02335 | true loss delay: 0.01670\n",
      "Epoch 11/100 | training loss: 0.02848 | test loss: 0.02898 | true loss throughput: 0.02325 | true loss delay: 0.01745\n",
      "Epoch 12/100 | training loss: 0.02661 | test loss: 0.02648 | true loss throughput: 0.02315 | true loss delay: 0.01860\n",
      "Epoch 13/100 | training loss: 0.02444 | test loss: 0.02416 | true loss throughput: 0.02540 | true loss delay: 0.02040\n",
      "Epoch 14/100 | training loss: 0.02238 | test loss: 0.02190 | true loss throughput: 0.03310 | true loss delay: 0.02140\n",
      "Epoch 15/100 | training loss: 0.02118 | test loss: 0.02061 | true loss throughput: 0.03505 | true loss delay: 0.02295\n",
      "Epoch 16/100 | training loss: 0.01960 | test loss: 0.01890 | true loss throughput: 0.06000 | true loss delay: 0.02490\n",
      "Epoch 17/100 | training loss: 0.01874 | test loss: 0.01812 | true loss throughput: 0.06695 | true loss delay: 0.02635\n",
      "Epoch 18/100 | training loss: 0.01840 | test loss: 0.01774 | true loss throughput: 0.06825 | true loss delay: 0.02900\n",
      "Epoch 19/100 | training loss: 0.01888 | test loss: 0.01806 | true loss throughput: 0.06570 | true loss delay: 0.03190\n",
      "Epoch 20/100 | training loss: 0.01995 | test loss: 0.01842 | true loss throughput: 0.06685 | true loss delay: 0.03415\n",
      "Epoch 21/100 | training loss: 0.02074 | test loss: 0.01843 | true loss throughput: 0.07535 | true loss delay: 0.03405\n",
      "Epoch 22/100 | training loss: 0.02138 | test loss: 0.01823 | true loss throughput: 0.08745 | true loss delay: 0.03535\n",
      "Epoch 23/100 | training loss: 0.02152 | test loss: 0.01726 | true loss throughput: 0.10560 | true loss delay: 0.03605\n",
      "Epoch 24/100 | training loss: 0.02013 | test loss: 0.01546 | true loss throughput: 0.13665 | true loss delay: 0.03925\n",
      "Epoch 25/100 | training loss: 0.01824 | test loss: 0.01406 | true loss throughput: 0.16940 | true loss delay: 0.04360\n",
      "Epoch 26/100 | training loss: 0.01630 | test loss: 0.01307 | true loss throughput: 0.19890 | true loss delay: 0.04400\n",
      "Epoch 27/100 | training loss: 0.01505 | test loss: 0.01241 | true loss throughput: 0.21810 | true loss delay: 0.04415\n",
      "Epoch 28/100 | training loss: 0.01379 | test loss: 0.01181 | true loss throughput: 0.23420 | true loss delay: 0.04470\n",
      "Epoch 29/100 | training loss: 0.01332 | test loss: 0.01134 | true loss throughput: 0.23960 | true loss delay: 0.04465\n",
      "Epoch 30/100 | training loss: 0.01322 | test loss: 0.01084 | true loss throughput: 0.24760 | true loss delay: 0.04565\n",
      "Epoch 31/100 | training loss: 0.01252 | test loss: 0.01039 | true loss throughput: 0.26005 | true loss delay: 0.04525\n",
      "Epoch 32/100 | training loss: 0.01172 | test loss: 0.01009 | true loss throughput: 0.27105 | true loss delay: 0.04565\n",
      "Epoch 33/100 | training loss: 0.01077 | test loss: 0.00993 | true loss throughput: 0.28150 | true loss delay: 0.04730\n",
      "Epoch 34/100 | training loss: 0.01005 | test loss: 0.00986 | true loss throughput: 0.29050 | true loss delay: 0.04710\n",
      "Epoch 35/100 | training loss: 0.00960 | test loss: 0.00973 | true loss throughput: 0.29605 | true loss delay: 0.04515\n",
      "Epoch 36/100 | training loss: 0.00932 | test loss: 0.00952 | true loss throughput: 0.29920 | true loss delay: 0.04500\n",
      "Epoch 37/100 | training loss: 0.00913 | test loss: 0.00924 | true loss throughput: 0.30060 | true loss delay: 0.04485\n",
      "Epoch 38/100 | training loss: 0.00891 | test loss: 0.00894 | true loss throughput: 0.30180 | true loss delay: 0.04665\n",
      "Epoch 39/100 | training loss: 0.00872 | test loss: 0.00872 | true loss throughput: 0.30545 | true loss delay: 0.04645\n",
      "Epoch 40/100 | training loss: 0.00857 | test loss: 0.00851 | true loss throughput: 0.30760 | true loss delay: 0.04710\n",
      "Epoch 41/100 | training loss: 0.00840 | test loss: 0.00833 | true loss throughput: 0.31060 | true loss delay: 0.04710\n",
      "Epoch 42/100 | training loss: 0.00827 | test loss: 0.00814 | true loss throughput: 0.31215 | true loss delay: 0.04790\n",
      "Epoch 43/100 | training loss: 0.00813 | test loss: 0.00801 | true loss throughput: 0.31585 | true loss delay: 0.04805\n",
      "Epoch 44/100 | training loss: 0.00803 | test loss: 0.00789 | true loss throughput: 0.32040 | true loss delay: 0.04865\n",
      "Epoch 45/100 | training loss: 0.00792 | test loss: 0.00777 | true loss throughput: 0.32300 | true loss delay: 0.04835\n",
      "Epoch 46/100 | training loss: 0.00781 | test loss: 0.00763 | true loss throughput: 0.32540 | true loss delay: 0.05090\n",
      "Epoch 47/100 | training loss: 0.00770 | test loss: 0.00752 | true loss throughput: 0.32795 | true loss delay: 0.05020\n",
      "Epoch 48/100 | training loss: 0.00766 | test loss: 0.00740 | true loss throughput: 0.32995 | true loss delay: 0.04980\n",
      "Epoch 49/100 | training loss: 0.00726 | test loss: 0.00720 | true loss throughput: 0.33010 | true loss delay: 0.05130\n",
      "Epoch 50/100 | training loss: 0.00712 | test loss: 0.00708 | true loss throughput: 0.33415 | true loss delay: 0.05165\n",
      "Epoch 51/100 | training loss: 0.00706 | test loss: 0.00694 | true loss throughput: 0.33660 | true loss delay: 0.05165\n",
      "Epoch 52/100 | training loss: 0.00701 | test loss: 0.00685 | true loss throughput: 0.33810 | true loss delay: 0.05260\n",
      "Epoch 53/100 | training loss: 0.00698 | test loss: 0.00673 | true loss throughput: 0.33875 | true loss delay: 0.05205\n",
      "Epoch 54/100 | training loss: 0.00693 | test loss: 0.00666 | true loss throughput: 0.34200 | true loss delay: 0.05225\n",
      "Epoch 55/100 | training loss: 0.00689 | test loss: 0.00660 | true loss throughput: 0.34475 | true loss delay: 0.05200\n",
      "Epoch 56/100 | training loss: 0.00683 | test loss: 0.00652 | true loss throughput: 0.34670 | true loss delay: 0.05165\n",
      "Epoch 57/100 | training loss: 0.00674 | test loss: 0.00646 | true loss throughput: 0.34840 | true loss delay: 0.05180\n",
      "Epoch 58/100 | training loss: 0.00670 | test loss: 0.00640 | true loss throughput: 0.35045 | true loss delay: 0.05355\n",
      "Epoch 59/100 | training loss: 0.00663 | test loss: 0.00633 | true loss throughput: 0.35165 | true loss delay: 0.05405\n",
      "Epoch 60/100 | training loss: 0.00657 | test loss: 0.00626 | true loss throughput: 0.35285 | true loss delay: 0.05485\n",
      "Epoch 61/100 | training loss: 0.00653 | test loss: 0.00618 | true loss throughput: 0.35350 | true loss delay: 0.05645\n",
      "Epoch 62/100 | training loss: 0.00652 | test loss: 0.00610 | true loss throughput: 0.35385 | true loss delay: 0.05580\n",
      "Epoch 63/100 | training loss: 0.00645 | test loss: 0.00605 | true loss throughput: 0.35485 | true loss delay: 0.05515\n",
      "Epoch 64/100 | training loss: 0.00641 | test loss: 0.00595 | true loss throughput: 0.35400 | true loss delay: 0.05700\n",
      "Epoch 65/100 | training loss: 0.00626 | test loss: 0.00596 | true loss throughput: 0.35725 | true loss delay: 0.05800\n",
      "Epoch 66/100 | training loss: 0.00608 | test loss: 0.00595 | true loss throughput: 0.36035 | true loss delay: 0.05785\n",
      "Epoch 67/100 | training loss: 0.00612 | test loss: 0.00589 | true loss throughput: 0.36180 | true loss delay: 0.05820\n",
      "Epoch 68/100 | training loss: 0.00612 | test loss: 0.00582 | true loss throughput: 0.36225 | true loss delay: 0.05815\n",
      "Epoch 69/100 | training loss: 0.00618 | test loss: 0.00577 | true loss throughput: 0.36365 | true loss delay: 0.05830\n",
      "Epoch 70/100 | training loss: 0.00623 | test loss: 0.00569 | true loss throughput: 0.36375 | true loss delay: 0.05855\n",
      "Epoch 71/100 | training loss: 0.00623 | test loss: 0.00567 | true loss throughput: 0.36440 | true loss delay: 0.05850\n",
      "Epoch 72/100 | training loss: 0.00617 | test loss: 0.00561 | true loss throughput: 0.36495 | true loss delay: 0.05845\n",
      "Epoch 73/100 | training loss: 0.00612 | test loss: 0.00555 | true loss throughput: 0.36510 | true loss delay: 0.05905\n",
      "Epoch 74/100 | training loss: 0.00605 | test loss: 0.00552 | true loss throughput: 0.36620 | true loss delay: 0.06045\n",
      "Epoch 75/100 | training loss: 0.00605 | test loss: 0.00544 | true loss throughput: 0.36565 | true loss delay: 0.06160\n",
      "Epoch 76/100 | training loss: 0.00607 | test loss: 0.00536 | true loss throughput: 0.36425 | true loss delay: 0.06415\n",
      "Epoch 77/100 | training loss: 0.00602 | test loss: 0.00534 | true loss throughput: 0.36590 | true loss delay: 0.06365\n",
      "Epoch 78/100 | training loss: 0.00597 | test loss: 0.00530 | true loss throughput: 0.36675 | true loss delay: 0.06405\n",
      "Epoch 79/100 | training loss: 0.00596 | test loss: 0.00525 | true loss throughput: 0.36575 | true loss delay: 0.06400\n",
      "Epoch 80/100 | training loss: 0.00592 | test loss: 0.00519 | true loss throughput: 0.36600 | true loss delay: 0.06540\n",
      "Epoch 81/100 | training loss: 0.00585 | test loss: 0.00512 | true loss throughput: 0.36450 | true loss delay: 0.06790\n",
      "Epoch 82/100 | training loss: 0.00569 | test loss: 0.00511 | true loss throughput: 0.36710 | true loss delay: 0.06750\n",
      "Epoch 83/100 | training loss: 0.00561 | test loss: 0.00507 | true loss throughput: 0.36710 | true loss delay: 0.06750\n",
      "Epoch 84/100 | training loss: 0.00552 | test loss: 0.00504 | true loss throughput: 0.36630 | true loss delay: 0.06785\n",
      "Epoch 85/100 | training loss: 0.00543 | test loss: 0.00500 | true loss throughput: 0.36675 | true loss delay: 0.06825\n",
      "Epoch 86/100 | training loss: 0.00533 | test loss: 0.00497 | true loss throughput: 0.36685 | true loss delay: 0.06740\n",
      "Epoch 87/100 | training loss: 0.00525 | test loss: 0.00495 | true loss throughput: 0.36795 | true loss delay: 0.06655\n",
      "Epoch 88/100 | training loss: 0.00518 | test loss: 0.00493 | true loss throughput: 0.36905 | true loss delay: 0.06710\n",
      "Epoch 89/100 | training loss: 0.00514 | test loss: 0.00489 | true loss throughput: 0.36800 | true loss delay: 0.06765\n",
      "Epoch 90/100 | training loss: 0.00501 | test loss: 0.00490 | true loss throughput: 0.36875 | true loss delay: 0.06580\n",
      "Epoch 91/100 | training loss: 0.00497 | test loss: 0.00490 | true loss throughput: 0.37040 | true loss delay: 0.06740\n",
      "Epoch 92/100 | training loss: 0.00495 | test loss: 0.00486 | true loss throughput: 0.37110 | true loss delay: 0.06815\n",
      "Epoch 93/100 | training loss: 0.00496 | test loss: 0.00486 | true loss throughput: 0.37325 | true loss delay: 0.06755\n",
      "Epoch 94/100 | training loss: 0.00497 | test loss: 0.00487 | true loss throughput: 0.37410 | true loss delay: 0.06825\n",
      "Epoch 95/100 | training loss: 0.00495 | test loss: 0.00483 | true loss throughput: 0.37570 | true loss delay: 0.06720\n",
      "Epoch 96/100 | training loss: 0.00494 | test loss: 0.00483 | true loss throughput: 0.37800 | true loss delay: 0.06610\n",
      "Epoch 97/100 | training loss: 0.00492 | test loss: 0.00479 | true loss throughput: 0.37785 | true loss delay: 0.06700\n",
      "Epoch 98/100 | training loss: 0.00491 | test loss: 0.00477 | true loss throughput: 0.38055 | true loss delay: 0.06605\n",
      "Epoch 99/100 | training loss: 0.00491 | test loss: 0.00476 | true loss throughput: 0.38155 | true loss delay: 0.06575\n",
      "Epoch 100/100 | training loss: 0.00487 | test loss: 0.00477 | true loss throughput: 0.38320 | true loss delay: 0.06585\n",
      "209.16007351875305\n"
     ]
    }
   ],
   "source": [
    "#torch.multiprocessing.set_start_method('spawn')\n",
    "import time\n",
    "\n",
    "tim = time.time()\n",
    "\n",
    "epochs = 100\n",
    "\n",
    "losses = []\n",
    "test_losses = []\n",
    "for i in range(1, epochs + 1):\n",
    "    loss_sum = 0\n",
    "    model.train()\n",
    "    for j, item in enumerate(train_loader):\n",
    "        train_x, train_y = item[:, :9], item[:, 9:]\n",
    "        \n",
    "        # train_x = train_x.to(device)\n",
    "        # train_y = train_y.to(device)\n",
    "        \n",
    "        pred_y = model(train_x)\n",
    "        loss = loss_function(pred_y, train_y)\n",
    "        losses.append(loss.item())\n",
    "\n",
    "        model.zero_grad()\n",
    "        loss.backward()\n",
    "\n",
    "        optimizer.step()\n",
    "        loss_sum = loss.item()\n",
    "\n",
    "    model.eval()\n",
    "    test_pred_y = model(test_n[\"data\"])\n",
    "    test_loss = loss_function(test_pred_y, test_n[\"target\"])\n",
    "    test_losses.append(test_loss)\n",
    "\n",
    "    accuracy_arr = full_tensor[-20000:, :]\n",
    "\n",
    "    inf_accuracy_arr = scaler.inverse_transform(torch.cat((accuracy_arr[:, :9], model(torch.Tensor(scaler.transform(accuracy_arr)[:, :9]))), 1).detach().numpy())\n",
    "\n",
    "    true_loss_throughput = ((accuracy_arr[:, 9] - inf_accuracy_arr[:, 9]).abs() / accuracy_arr[:, 9] < 0.05).long().float()\n",
    "    true_loss_delay = ((accuracy_arr[:, 10] - inf_accuracy_arr[:, 10]).abs() / accuracy_arr[:, 10] < 0.05).long().float()\n",
    "\n",
    "    print(f\"Epoch {i:2}/{epochs} | \"\n",
    "          f\"training loss: {loss_sum:.5f} | \"\n",
    "          f\"test loss: {test_loss:.5f} | \"\n",
    "          f\"true loss throughput: {true_loss_throughput.mean():.5f} | \"\n",
    "          f\"true loss delay: {true_loss_delay.mean():.5f}\")\n",
    "\n",
    "print(time.time() - tim)"
   ]
  },
  {
   "cell_type": "code",
   "execution_count": 11,
   "metadata": {},
   "outputs": [],
   "source": [
    "#losses = []\n",
    "#test_losses = []\n",
    "#for i in range(100):\n",
    "#    for j in range(0, train_n[\"data\"].shape[0], batch_size):\n",
    "#        train_x, train_y = train_n[\"data\"][j:j+batch_size], train_n[\"target\"][j:j+batch_size]\n",
    "#        \n",
    "#        pred_y = model(train_x)\n",
    "#        loss = loss_function(pred_y, train_y)\n",
    "#        losses.append(loss.item())\n",
    "#\n",
    "#        model.zero_grad()\n",
    "#        loss.backward()\n",
    "#\n",
    "#        optimizer.step()\n",
    "#\n",
    "#    test_pred_y = model(test_n[\"data\"])\n",
    "#    test_loss = loss_function(test_pred_y, test_n[\"target\"])\n",
    "#    test_losses.append(test_loss)"
   ]
  },
  {
   "cell_type": "code",
   "execution_count": 12,
   "metadata": {},
   "outputs": [
    {
     "data": {
      "text/plain": "<Figure size 640x480 with 1 Axes>",
      "image/png": "[encoded data removed]"
     },
     "metadata": {},
     "output_type": "display_data"
    }
   ],
   "source": [
    "import matplotlib.pyplot as plt\n",
    "plt.plot(losses)\n",
    "plt.ylabel('loss')\n",
    "plt.xlabel('epoch')\n",
    "plt.title(\"Learning rate %f\"%(learning_rate))\n",
    "plt.show()"
   ]
  },
  {
   "cell_type": "code",
   "execution_count": 13,
   "metadata": {},
   "outputs": [
    {
     "data": {
      "text/plain": "[tensor(0.0544, grad_fn=<HuberLossBackward0>),\n tensor(0.0489, grad_fn=<HuberLossBackward0>),\n tensor(0.0462, grad_fn=<HuberLossBackward0>),\n tensor(0.0451, grad_fn=<HuberLossBackward0>),\n tensor(0.0442, grad_fn=<HuberLossBackward0>),\n tensor(0.0430, grad_fn=<HuberLossBackward0>),\n tensor(0.0413, grad_fn=<HuberLossBackward0>),\n tensor(0.0388, grad_fn=<HuberLossBackward0>),\n tensor(0.0355, grad_fn=<HuberLossBackward0>),\n tensor(0.0320, grad_fn=<HuberLossBackward0>),\n tensor(0.0290, grad_fn=<HuberLossBackward0>),\n tensor(0.0265, grad_fn=<HuberLossBackward0>),\n tensor(0.0242, grad_fn=<HuberLossBackward0>),\n tensor(0.0219, grad_fn=<HuberLossBackward0>),\n tensor(0.0206, grad_fn=<HuberLossBackward0>),\n tensor(0.0189, grad_fn=<HuberLossBackward0>),\n tensor(0.0181, grad_fn=<HuberLossBackward0>),\n tensor(0.0177, grad_fn=<HuberLossBackward0>),\n tensor(0.0181, grad_fn=<HuberLossBackward0>),\n tensor(0.0184, grad_fn=<HuberLossBackward0>),\n tensor(0.0184, grad_fn=<HuberLossBackward0>),\n tensor(0.0182, grad_fn=<HuberLossBackward0>),\n tensor(0.0173, grad_fn=<HuberLossBackward0>),\n tensor(0.0155, grad_fn=<HuberLossBackward0>),\n tensor(0.0141, grad_fn=<HuberLossBackward0>),\n tensor(0.0131, grad_fn=<HuberLossBackward0>),\n tensor(0.0124, grad_fn=<HuberLossBackward0>),\n tensor(0.0118, grad_fn=<HuberLossBackward0>),\n tensor(0.0113, grad_fn=<HuberLossBackward0>),\n tensor(0.0108, grad_fn=<HuberLossBackward0>),\n tensor(0.0104, grad_fn=<HuberLossBackward0>),\n tensor(0.0101, grad_fn=<HuberLossBackward0>),\n tensor(0.0099, grad_fn=<HuberLossBackward0>),\n tensor(0.0099, grad_fn=<HuberLossBackward0>),\n tensor(0.0097, grad_fn=<HuberLossBackward0>),\n tensor(0.0095, grad_fn=<HuberLossBackward0>),\n tensor(0.0092, grad_fn=<HuberLossBackward0>),\n tensor(0.0089, grad_fn=<HuberLossBackward0>),\n tensor(0.0087, grad_fn=<HuberLossBackward0>),\n tensor(0.0085, grad_fn=<HuberLossBackward0>),\n tensor(0.0083, grad_fn=<HuberLossBackward0>),\n tensor(0.0081, grad_fn=<HuberLossBackward0>),\n tensor(0.0080, grad_fn=<HuberLossBackward0>),\n tensor(0.0079, grad_fn=<HuberLossBackward0>),\n tensor(0.0078, grad_fn=<HuberLossBackward0>),\n tensor(0.0076, grad_fn=<HuberLossBackward0>),\n tensor(0.0075, grad_fn=<HuberLossBackward0>),\n tensor(0.0074, grad_fn=<HuberLossBackward0>),\n tensor(0.0072, grad_fn=<HuberLossBackward0>),\n tensor(0.0071, grad_fn=<HuberLossBackward0>),\n tensor(0.0069, grad_fn=<HuberLossBackward0>),\n tensor(0.0068, grad_fn=<HuberLossBackward0>),\n tensor(0.0067, grad_fn=<HuberLossBackward0>),\n tensor(0.0067, grad_fn=<HuberLossBackward0>),\n tensor(0.0066, grad_fn=<HuberLossBackward0>),\n tensor(0.0065, grad_fn=<HuberLossBackward0>),\n tensor(0.0065, grad_fn=<HuberLossBackward0>),\n tensor(0.0064, grad_fn=<HuberLossBackward0>),\n tensor(0.0063, grad_fn=<HuberLossBackward0>),\n tensor(0.0063, grad_fn=<HuberLossBackward0>),\n tensor(0.0062, grad_fn=<HuberLossBackward0>),\n tensor(0.0061, grad_fn=<HuberLossBackward0>),\n tensor(0.0060, grad_fn=<HuberLossBackward0>),\n tensor(0.0059, grad_fn=<HuberLossBackward0>),\n tensor(0.0060, grad_fn=<HuberLossBackward0>),\n tensor(0.0060, grad_fn=<HuberLossBackward0>),\n tensor(0.0059, grad_fn=<HuberLossBackward0>),\n tensor(0.0058, grad_fn=<HuberLossBackward0>),\n tensor(0.0058, grad_fn=<HuberLossBackward0>),\n tensor(0.0057, grad_fn=<HuberLossBackward0>),\n tensor(0.0057, grad_fn=<HuberLossBackward0>),\n tensor(0.0056, grad_fn=<HuberLossBackward0>),\n tensor(0.0056, grad_fn=<HuberLossBackward0>),\n tensor(0.0055, grad_fn=<HuberLossBackward0>),\n tensor(0.0054, grad_fn=<HuberLossBackward0>),\n tensor(0.0054, grad_fn=<HuberLossBackward0>),\n tensor(0.0053, grad_fn=<HuberLossBackward0>),\n tensor(0.0053, grad_fn=<HuberLossBackward0>),\n tensor(0.0052, grad_fn=<HuberLossBackward0>),\n tensor(0.0052, grad_fn=<HuberLossBackward0>),\n tensor(0.0051, grad_fn=<HuberLossBackward0>),\n tensor(0.0051, grad_fn=<HuberLossBackward0>),\n tensor(0.0051, grad_fn=<HuberLossBackward0>),\n tensor(0.0050, grad_fn=<HuberLossBackward0>),\n tensor(0.0050, grad_fn=<HuberLossBackward0>),\n tensor(0.0050, grad_fn=<HuberLossBackward0>),\n tensor(0.0050, grad_fn=<HuberLossBackward0>),\n tensor(0.0049, grad_fn=<HuberLossBackward0>),\n tensor(0.0049, grad_fn=<HuberLossBackward0>),\n tensor(0.0049, grad_fn=<HuberLossBackward0>),\n tensor(0.0049, grad_fn=<HuberLossBackward0>),\n tensor(0.0049, grad_fn=<HuberLossBackward0>),\n tensor(0.0049, grad_fn=<HuberLossBackward0>),\n tensor(0.0049, grad_fn=<HuberLossBackward0>),\n tensor(0.0048, grad_fn=<HuberLossBackward0>),\n tensor(0.0048, grad_fn=<HuberLossBackward0>),\n tensor(0.0048, grad_fn=<HuberLossBackward0>),\n tensor(0.0048, grad_fn=<HuberLossBackward0>),\n tensor(0.0048, grad_fn=<HuberLossBackward0>),\n tensor(0.0048, grad_fn=<HuberLossBackward0>)]"
     },
     "execution_count": 13,
     "metadata": {},
     "output_type": "execute_result"
    }
   ],
   "source": [
    "test_losses"
   ]
  },
  {
   "cell_type": "code",
   "execution_count": 14,
   "metadata": {},
   "outputs": [
    {
     "data": {
      "text/plain": "tensor([0., 0.], grad_fn=<SigmoidBackward0>)"
     },
     "execution_count": 14,
     "metadata": {},
     "output_type": "execute_result"
    }
   ],
   "source": [
    "#                                      bandwidth ↓\n",
    "model(torch.tensor([1., 1., 1., 1., 1., 1., 1., 100., 1.]))"
   ]
  },
  {
   "cell_type": "code",
   "execution_count": 15,
   "metadata": {},
   "outputs": [
    {
     "data": {
      "text/plain": "tensor([0., 0.], grad_fn=<SigmoidBackward0>)"
     },
     "execution_count": 15,
     "metadata": {},
     "output_type": "execute_result"
    }
   ],
   "source": [
    "#                                      bandwidth ↓\n",
    "model(torch.tensor([1., 1., 1., 1., 1., 1., 1., 1000., 1.]))"
   ]
  },
  {
   "cell_type": "code",
   "execution_count": 16,
   "metadata": {},
   "outputs": [
    {
     "data": {
      "text/plain": "tensor([[0.0000e+00, 2.8571e-01, 4.2857e-01, 8.5714e-01, 1.7304e-02, 1.2747e-01,\n         2.8086e-01, 1.6938e-01, 6.1069e-04],\n        [7.1429e-01, 1.4286e-01, 8.5714e-01, 8.5714e-01, 4.1366e-02, 3.1247e-01,\n         9.8956e-01, 2.2675e-01, 1.2218e-02],\n        [2.8571e-01, 0.0000e+00, 1.4286e-01, 5.7143e-01, 2.6630e-01, 2.7092e-01,\n         1.8378e-01, 1.7757e-01, 4.7269e-02],\n        [1.4286e-01, 5.7143e-01, 1.0000e+00, 0.0000e+00, 4.3131e-01, 2.3900e-01,\n         4.1423e-01, 8.3760e-02, 5.7176e-03],\n        [2.8571e-01, 2.8571e-01, 4.2857e-01, 1.0000e+00, 3.2173e-01, 1.1533e-01,\n         1.9751e-02, 7.5154e-01, 1.1898e-03]])"
     },
     "execution_count": 16,
     "metadata": {},
     "output_type": "execute_result"
    }
   ],
   "source": [
    "full_scaled[230000:230005, :9]"
   ]
  },
  {
   "cell_type": "code",
   "execution_count": 17,
   "metadata": {},
   "outputs": [
    {
     "data": {
      "text/plain": "tensor([[6.2800e-01, 1.9680e-01],\n        [4.4569e-03, 1.0843e-01],\n        [1.5114e-07, 9.6557e-04],\n        [9.4981e-02, 4.7823e-01],\n        [9.6983e-01, 4.3306e-02]], grad_fn=<SigmoidBackward0>)"
     },
     "execution_count": 17,
     "metadata": {},
     "output_type": "execute_result"
    }
   ],
   "source": [
    "inf_scaled = model(full_scaled[230000:230005, :9])\n",
    "inf_scaled"
   ]
  },
  {
   "cell_type": "code",
   "execution_count": 18,
   "metadata": {},
   "outputs": [
    {
     "data": {
      "text/plain": "tensor([[0.0000e+00, 2.8571e-01, 4.2857e-01, 8.5714e-01, 1.7304e-02, 1.2747e-01,\n         2.8086e-01, 1.6938e-01, 6.1069e-04, 6.2800e-01, 1.9680e-01],\n        [7.1429e-01, 1.4286e-01, 8.5714e-01, 8.5714e-01, 4.1366e-02, 3.1247e-01,\n         9.8956e-01, 2.2675e-01, 1.2218e-02, 4.4569e-03, 1.0843e-01],\n        [2.8571e-01, 0.0000e+00, 1.4286e-01, 5.7143e-01, 2.6630e-01, 2.7092e-01,\n         1.8378e-01, 1.7757e-01, 4.7269e-02, 1.5114e-07, 9.6557e-04],\n        [1.4286e-01, 5.7143e-01, 1.0000e+00, 0.0000e+00, 4.3131e-01, 2.3900e-01,\n         4.1423e-01, 8.3760e-02, 5.7176e-03, 9.4981e-02, 4.7823e-01],\n        [2.8571e-01, 2.8571e-01, 4.2857e-01, 1.0000e+00, 3.2173e-01, 1.1533e-01,\n         1.9751e-02, 7.5154e-01, 1.1898e-03, 9.6983e-01, 4.3306e-02]],\n       grad_fn=<CatBackward0>)"
     },
     "execution_count": 18,
     "metadata": {},
     "output_type": "execute_result"
    }
   ],
   "source": [
    "remerged = torch.cat((full_scaled[230000:230005, :9], inf_scaled), 1)\n",
    "remerged"
   ]
  },
  {
   "cell_type": "code",
   "execution_count": 19,
   "metadata": {},
   "outputs": [
    {
     "data": {
      "text/plain": "tensor([[1.2847e+02, 1.1236e+02],\n        [9.1175e-01, 6.1906e+01],\n        [3.0919e-05, 5.5125e-01],\n        [1.9430e+01, 2.7303e+02],\n        [1.9840e+02, 2.4724e+01]])"
     },
     "execution_count": 19,
     "metadata": {},
     "output_type": "execute_result"
    }
   ],
   "source": [
    "torch.tensor(scaler.inverse_transform(remerged.detach().numpy())[:, 9:])"
   ]
  },
  {
   "cell_type": "code",
   "execution_count": 20,
   "metadata": {},
   "outputs": [
    {
     "data": {
      "text/plain": "tensor([[146.0171,  81.0928],\n        [  0.0000,   0.0000],\n        [  0.0000,   0.0000],\n        [ 15.5708, 219.3682],\n        [203.0780,  39.5046]])"
     },
     "execution_count": 20,
     "metadata": {},
     "output_type": "execute_result"
    }
   ],
   "source": [
    "full_tensor[230000:230005, 9:]"
   ]
  },
  {
   "cell_type": "code",
   "execution_count": 21,
   "metadata": {},
   "outputs": [],
   "source": [
    "myin = torch.tensor([4.,4,2,2,30,20,3600000000, 20000000, 200])"
   ]
  },
  {
   "cell_type": "code",
   "execution_count": 22,
   "outputs": [],
   "source": [
    "myin2 = torch.cat((myin, torch.tensor([0, 0.])), 0)"
   ],
   "metadata": {
    "collapsed": false
   }
  },
  {
   "cell_type": "code",
   "execution_count": 23,
   "outputs": [],
   "source": [
    "myin3 = scaler.transform(myin2.reshape(1,-1))"
   ],
   "metadata": {
    "collapsed": false
   }
  },
  {
   "cell_type": "code",
   "execution_count": 24,
   "outputs": [],
   "source": [
    "myins4 = torch.tensor(myin3[:, :9]).float()"
   ],
   "metadata": {
    "collapsed": false
   }
  },
  {
   "cell_type": "code",
   "execution_count": 25,
   "outputs": [
    {
     "data": {
      "text/plain": "tensor([[0.3341, 0.2941]], grad_fn=<SigmoidBackward0>)"
     },
     "execution_count": 25,
     "metadata": {},
     "output_type": "execute_result"
    }
   ],
   "source": [
    "model(myins4)"
   ],
   "metadata": {
    "collapsed": false
   }
  },
  {
   "cell_type": "code",
   "execution_count": 25,
   "outputs": [],
   "source": [],
   "metadata": {
    "collapsed": false
   }
  }
 ],
 "metadata": {
  "kernelspec": {
   "display_name": "Python 3 (ipykernel)",
   "language": "python",
   "name": "python3"
  },
  "language_info": {
   "codemirror_mode": {
    "name": "ipython",
    "version": 3
   },
   "file_extension": ".py",
   "mimetype": "text/x-python",
   "name": "python",
   "nbconvert_exporter": "python",
   "pygments_lexer": "ipython3",
   "version": "3.10.9"
  }
 },
 "nbformat": 4,
 "nbformat_minor": 1
}
